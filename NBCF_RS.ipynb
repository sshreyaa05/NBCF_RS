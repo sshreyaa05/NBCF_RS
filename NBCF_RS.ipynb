{
 "cells": [
  {
   "cell_type": "markdown",
   "id": "a5f70da1-1a07-4449-8f77-426dee616afc",
   "metadata": {},
   "source": [
    "##### IMPORTING THE NECESSARY LIBRARIES"
   ]
  },
  {
   "cell_type": "code",
   "execution_count": 1,
   "id": "e35c7fe1-b6aa-43a7-9354-a23cff622b8b",
   "metadata": {},
   "outputs": [],
   "source": [
    "import pandas as pd\n",
    "import numpy as np"
   ]
  },
  {
   "cell_type": "markdown",
   "id": "01ad68b0-8ec7-4939-9d88-15d9ae98a6c0",
   "metadata": {},
   "source": [
    "#### 1. USER-BASED COLLABORATIVE FILTERING APPROACH"
   ]
  },
  {
   "cell_type": "markdown",
   "id": "e529b161-9189-4fdc-8c46-81e1aa442897",
   "metadata": {},
   "source": [
    "##### DEFINING THE RAW RATINGS DEFINED BY THE USER 1"
   ]
  },
  {
   "cell_type": "code",
   "execution_count": 2,
   "id": "52a97cd6-ef6a-42ab-b30f-2a6551c8ceca",
   "metadata": {},
   "outputs": [
    {
     "name": "stdout",
     "output_type": "stream",
     "text": [
      "Mean rating of the user 1: 5.5\n",
      "Standad deviation of the user 1: 1.2583057392117916\n"
     ]
    }
   ],
   "source": [
    "raw_scores = np.array([7,6,7,4,5,4])\n",
    "mean_rating = np.mean(raw_scores)\n",
    "std_rating = np.std(raw_scores)\n",
    "print(\"Mean rating of the user 1:\", mean_rating)\n",
    "print(\"Standad deviation of the user 1:\", std_rating)"
   ]
  },
  {
   "cell_type": "markdown",
   "id": "2e932a3e-9e17-4f15-8748-dbb54adcecdd",
   "metadata": {},
   "source": [
    "##### PERFORMING STANDARD SCALING PREPROCESSING OF THE RAW RATINGS GIVEN BY THE USER 1"
   ]
  },
  {
   "cell_type": "code",
   "execution_count": 3,
   "id": "0baa03a1-3d6a-48b9-b189-a07e3eb1614f",
   "metadata": {},
   "outputs": [
    {
     "name": "stdout",
     "output_type": "stream",
     "text": [
      "Standard_ratings of the user 1: [ 1.19207912  0.39735971  1.19207912 -1.19207912 -0.39735971 -1.19207912]\n"
     ]
    }
   ],
   "source": [
    "standard_scores = (raw_scores - mean_rating)/std_rating\n",
    "print(\"Standard_ratings of the user 1:\", standard_scores)"
   ]
  },
  {
   "cell_type": "markdown",
   "id": "893809d0-b855-4066-b8b4-a35dcab154e8",
   "metadata": {},
   "source": [
    "##### DEFINING THE RAW RATINGS DEFINED BY THE USER 2"
   ]
  },
  {
   "cell_type": "code",
   "execution_count": 4,
   "id": "c5778a09-4d45-4f12-8d14-7580c3adac58",
   "metadata": {},
   "outputs": [
    {
     "name": "stdout",
     "output_type": "stream",
     "text": [
      "Mean rating of the user 2: 4.8\n",
      "Standad deviation of the user 2: 1.469693845669907\n"
     ]
    }
   ],
   "source": [
    "raw_scores = np.array([6,7, np.nan , 4,3,4])\n",
    "mean_rating = np.nanmean(raw_scores)\n",
    "std_rating = np.nanstd(raw_scores)\n",
    "print(\"Mean rating of the user 2:\", mean_rating)\n",
    "print(\"Standad deviation of the user 2:\", std_rating)"
   ]
  },
  {
   "cell_type": "markdown",
   "id": "e5a7ec4c-390c-48cd-845a-c24ae4f715a1",
   "metadata": {},
   "source": [
    "##### PERFORMING STANDARD SCALING PREPROCESSING OF THE RAW RATINGS GIVEN BY THE USER 2"
   ]
  },
  {
   "cell_type": "code",
   "execution_count": 5,
   "id": "bfa168d6-2e19-4c9e-a30a-13b631ac7b10",
   "metadata": {},
   "outputs": [
    {
     "name": "stdout",
     "output_type": "stream",
     "text": [
      "Standard_ratings of the user 2: [ 0.81649658  1.4969104          nan -0.54433105 -1.22474487 -0.54433105]\n"
     ]
    }
   ],
   "source": [
    "standard_scores = (raw_scores - mean_rating)/std_rating\n",
    "print(\"Standard_ratings of the user 2:\", standard_scores)"
   ]
  },
  {
   "cell_type": "markdown",
   "id": "62c17b81-3765-41f1-8c6d-de8a4dd5666c",
   "metadata": {},
   "source": [
    "##### DEFINING THE RAW RATINGS DEFINED BY THE USER 3"
   ]
  },
  {
   "cell_type": "code",
   "execution_count": 6,
   "id": "fe58659d-3842-4650-bb88-cb9da628bf61",
   "metadata": {},
   "outputs": [
    {
     "name": "stdout",
     "output_type": "stream",
     "text": [
      "Mean rating of the user 3: 2.0\n",
      "Standad deviation of the user 3: 1.0\n"
     ]
    }
   ],
   "source": [
    "raw_scores = np.array([np.nan, 3,3,1,1, np.nan])\n",
    "mean_rating = np.nanmean(raw_scores)\n",
    "std_rating = np.nanstd(raw_scores)\n",
    "print(\"Mean rating of the user 3:\", mean_rating)\n",
    "print(\"Standad deviation of the user 3:\", std_rating)"
   ]
  },
  {
   "cell_type": "markdown",
   "id": "5b76416f-75b5-4111-8300-3e3c6947ac17",
   "metadata": {},
   "source": [
    "##### PERFORMING STANDARD SCALING PREPROCESSING OF THE RAW RATINGS GIVEN BY THE USER 3"
   ]
  },
  {
   "cell_type": "code",
   "execution_count": 7,
   "id": "6999aa0b-dcee-427c-b71a-af6c363f10b2",
   "metadata": {},
   "outputs": [
    {
     "name": "stdout",
     "output_type": "stream",
     "text": [
      "Standard_ratings of the user 3: [nan  1.  1. -1. -1. nan]\n"
     ]
    }
   ],
   "source": [
    "standard_scores = (raw_scores - mean_rating)/std_rating\n",
    "print(\"Standard_ratings of the user 3:\", standard_scores)"
   ]
  },
  {
   "cell_type": "markdown",
   "id": "54d0e4fe-6415-42bf-93ac-f0dd53198993",
   "metadata": {},
   "source": [
    "##### DEFINING THE RAW RATINGS DEFINED BY THE USER 4"
   ]
  },
  {
   "cell_type": "code",
   "execution_count": 8,
   "id": "b59d93a0-7128-4108-8458-8ab04afedb3c",
   "metadata": {},
   "outputs": [
    {
     "name": "stdout",
     "output_type": "stream",
     "text": [
      "Mean rating of the user 4: 2.5\n",
      "Standad deviation of the user 4: 0.9574271077563381\n"
     ]
    }
   ],
   "source": [
    "raw_scores = np.array([1,2,2,3,3,4])\n",
    "mean_rating = np.nanmean(raw_scores)\n",
    "std_rating = np.nanstd(raw_scores)\n",
    "print(\"Mean rating of the user 4:\", mean_rating)\n",
    "print(\"Standad deviation of the user 4:\", std_rating)"
   ]
  },
  {
   "cell_type": "markdown",
   "id": "a33cc3ad-6f9b-4450-a27d-195967c6a5e6",
   "metadata": {},
   "source": [
    "##### PERFORMING STANDARD SCALING PREPROCESSING OF THE RAW RATINGS GIVEN BY THE USER 4\n"
   ]
  },
  {
   "cell_type": "code",
   "execution_count": 9,
   "id": "06230063-b229-481c-8000-e4d615301280",
   "metadata": {},
   "outputs": [
    {
     "name": "stdout",
     "output_type": "stream",
     "text": [
      "Standard_ratings of the user 4: [-1.5666989  -0.52223297 -0.52223297  0.52223297  0.52223297  1.5666989 ]\n"
     ]
    }
   ],
   "source": [
    "standard_scores = (raw_scores - mean_rating)/std_rating\n",
    "print(\"Standard_ratings of the user 4:\", standard_scores)"
   ]
  },
  {
   "cell_type": "markdown",
   "id": "932c605f-d054-4724-8618-fc64e9a4fcb1",
   "metadata": {},
   "source": [
    "##### DEFINING THE RAW RATINGS DEFINED BY THE USER 5"
   ]
  },
  {
   "cell_type": "code",
   "execution_count": 10,
   "id": "7c777c4e-1816-4eb1-864b-cec22a797688",
   "metadata": {},
   "outputs": [
    {
     "name": "stdout",
     "output_type": "stream",
     "text": [
      "Mean rating of the user 5: 2.0\n",
      "Standad deviation of the user 5: 0.8944271909999159\n"
     ]
    }
   ],
   "source": [
    "raw_scores = np.array([1, np.nan, 1,2,3,3])\n",
    "mean_rating = np.nanmean(raw_scores)\n",
    "std_rating = np.nanstd(raw_scores)\n",
    "print(\"Mean rating of the user 5:\", mean_rating)\n",
    "print(\"Standad deviation of the user 5:\", std_rating)"
   ]
  },
  {
   "cell_type": "markdown",
   "id": "08367497-e32b-41a5-a5b4-15f0b5055fab",
   "metadata": {},
   "source": [
    "##### PERFORMING STANDARD SCALING PREPROCESSING OF THE RAW RATINGS GIVEN BY THE USER 5"
   ]
  },
  {
   "cell_type": "code",
   "execution_count": 11,
   "id": "de48ac5b-7c9d-4a7f-ae31-ee95207a7a58",
   "metadata": {},
   "outputs": [
    {
     "name": "stdout",
     "output_type": "stream",
     "text": [
      "Standard_ratings of the user 5: [-1.11803399         nan -1.11803399  0.          1.11803399  1.11803399]\n"
     ]
    }
   ],
   "source": [
    "standard_scores = (raw_scores - mean_rating)/std_rating\n",
    "print(\"Standard_ratings of the user 5:\", standard_scores)"
   ]
  },
  {
   "cell_type": "markdown",
   "id": "5bc17fc1-17d3-4677-a0d9-cf3fd9d357d9",
   "metadata": {},
   "source": [
    "###### CALCULATING THE SIMILARITIES BETWEEN THE TARGET USER, THAT IS USER 3 AND ALL OTHER ELIGIBLE USERS, WHO HAS\n",
    "###### RATED THE ITEM 6 ( USER 1, USER 2, USER 4 AND USER 5) CONSIDERING THE PEARSON SIMILARITY APPROACH."
   ]
  },
  {
   "cell_type": "code",
   "execution_count": 12,
   "id": "f289c2f8-6918-4123-a78c-e275027302be",
   "metadata": {},
   "outputs": [
    {
     "name": "stdout",
     "output_type": "stream",
     "text": [
      "Similarity between user 3 and user 1: 0.8944271921253787\n"
     ]
    }
   ],
   "source": [
    "#### SIMILARITY BETWEEN USER 3 AND USER 1\n",
    "u1 = np.array([0.39735971, 1.19207912, -1.19207912, -0.39735971])\n",
    "u3 = np.array([1.0,  1.0, -1.0, -1.0])\n",
    "numerator = np.sum(u3*u1)\n",
    "denominator = (np.sqrt(sum(u3*u3))) * (np.sqrt(sum(u1*u1)))\n",
    "similarity = numerator/denominator\n",
    "print(\"Similarity between user 3 and user 1:\", similarity)"
   ]
  },
  {
   "cell_type": "code",
   "execution_count": 13,
   "id": "747213d9-b6ad-4d07-b4bd-408768e6f957",
   "metadata": {},
   "outputs": [
    {
     "name": "stdout",
     "output_type": "stream",
     "text": [
      "Similarity between user 3 and user 2: 0.9384742636687888\n"
     ]
    }
   ],
   "source": [
    "#### SIMILARITY BETWEEN USER 3 AND USER 2\n",
    "u2 = np.array([1.4969104, -0.54433105, -1.22474487])\n",
    "u3 = np.array([1.0, -1.0, -1.0])\n",
    "numerator = np.sum(u3*u2)\n",
    "denominator = (np.sqrt(sum(u3*u3))) * (np.sqrt(sum(u2*u2)))\n",
    "similarity = numerator/denominator\n",
    "print(\"Similarity between user 3 and user 2:\", similarity)"
   ]
  },
  {
   "cell_type": "code",
   "execution_count": 14,
   "id": "e34cd95f-333d-4765-a57a-e2a9cf2d445e",
   "metadata": {},
   "outputs": [
    {
     "name": "stdout",
     "output_type": "stream",
     "text": [
      "Similarity between user 3 and user 4: -1.0\n"
     ]
    }
   ],
   "source": [
    "#### SIMILARITY BETWEEN USER 3 AND USER 4\n",
    "u4 = np.array([-0.52223297, -0.52223297,  0.52223297,  0.52223297])\n",
    "u3 = np.array([1.0, 1.0, -1.0, -1.0])\n",
    "numerator = np.sum(u3*u4)\n",
    "denominator = (np.sqrt(sum(u3*u3))) * (np.sqrt(sum(u4*u4)))\n",
    "similarity = numerator/denominator\n",
    "print(\"Similarity between user 3 and user 4:\", similarity)\n"
   ]
  },
  {
   "cell_type": "code",
   "execution_count": 15,
   "id": "a79a2be2-66f7-4bea-b207-5167e564e094",
   "metadata": {},
   "outputs": [
    {
     "name": "stdout",
     "output_type": "stream",
     "text": [
      "Similarity between user 3 and user 5: -0.8164965809277261\n"
     ]
    }
   ],
   "source": [
    "#### SIMILARITY BETWEEN USER 3 AND USER 5\n",
    "u5 = np.array([-1.11803399, 0.0, 1.11803399])\n",
    "u3 = np.array([1.0, -1.0, -1.0])\n",
    "numerator = np.sum(u3*u5)\n",
    "denominator = (np.sqrt(sum(u3*u3))) * (np.sqrt(sum(u5*u5)))\n",
    "similarity = numerator/denominator\n",
    "print(\"Similarity between user 3 and user 5:\", similarity)\n"
   ]
  },
  {
   "cell_type": "markdown",
   "id": "18d4ce04-7542-4b88-aaeb-8e1797b1a6f2",
   "metadata": {},
   "source": [
    "###### THEREFORE, CONSIDERING THE MAXIMUM SIMILARITY VALUE, WE CAN STATE THAT USER 2 AND USER 1 ARE MOST SIMILAR\n",
    "###### USERS TO THE TARGET USER 3, HENCE WE PREDICT THE RATING, COMPUTING THE AVERAGE OF THE RATINGS GIVEN BY THE\n",
    "###### USER 2 AND USER 1 FOR ITEM 6."
   ]
  },
  {
   "cell_type": "code",
   "execution_count": 16,
   "id": "5a486749-e9ac-4f30-a9ea-09dab5bcec8e",
   "metadata": {},
   "outputs": [
    {
     "name": "stdout",
     "output_type": "stream",
     "text": [
      "The perdicted rating of item 6 by user 3 is: 1.139578040898886\n"
     ]
    }
   ],
   "source": [
    "r_2_6 = -0.54433105\n",
    "r_1_6 = -1.19207912\n",
    "numerator = (0.9384742636687888 * r_2_6) + (0.8944271921253787 * r_1_6)\n",
    "denominator = 0.9384742636687888 + 0.8944271921253787\n",
    "mean_user3 = 2.0\n",
    "std_user3 = 1.0\n",
    "r_3_6_hat = mean_user3 + std_user3 * (numerator/denominator)\n",
    "print(\"The perdicted rating of item 6 by user 3 is:\", r_3_6_hat)"
   ]
  },
  {
   "cell_type": "markdown",
   "id": "fd80ea4b-416d-44cb-888a-a4566e96fc0a",
   "metadata": {},
   "source": [
    "###### THEREFORE, WE CONCLUDE THAT WE DO NOT RECOMMEND THIS ITEM 6 TO THE USER 3 DUE TO ITS POOR RATING USING \n",
    "###### USER-BASED COLLABORATIVE FILTERING APPROACH."
   ]
  },
  {
   "cell_type": "markdown",
   "id": "0d3a2d11-2d84-460d-a1f5-4811a04afcb4",
   "metadata": {},
   "source": [
    "#### 2. ITEM-BASED COLLABORATIVE FILTERING APPROACH"
   ]
  },
  {
   "cell_type": "markdown",
   "id": "6a1371c1-0f1c-472a-b137-c6a81569e30b",
   "metadata": {},
   "source": [
    "##### DEFINING THE RAW RATINGS RECIEVED BY THE ITEM 1"
   ]
  },
  {
   "cell_type": "code",
   "execution_count": 17,
   "id": "51293c3d-ac17-44f9-843c-9facba36b1d3",
   "metadata": {},
   "outputs": [
    {
     "name": "stdout",
     "output_type": "stream",
     "text": [
      "Mean rating of the item 1: 3.75\n",
      "Standad deviation of the item 1: 2.7726341266023544\n"
     ]
    }
   ],
   "source": [
    "raw_scores = np.array([7,6, np.nan, 1,1])\n",
    "mean_rating = np.nanmean(raw_scores)\n",
    "std_rating = np.nanstd(raw_scores)\n",
    "print(\"Mean rating of the item 1:\", mean_rating)\n",
    "print(\"Standad deviation of the item 1:\", std_rating)"
   ]
  },
  {
   "cell_type": "markdown",
   "id": "eaf225b3-0b09-44f1-a8aa-241b16795c35",
   "metadata": {},
   "source": [
    "##### PREPROCESSING THE RAW RATINGS RECIEVED BY THE ITEM 1"
   ]
  },
  {
   "cell_type": "code",
   "execution_count": 18,
   "id": "27964057-1ee4-4a0c-8c33-b1b64e163901",
   "metadata": {},
   "outputs": [
    {
     "name": "stdout",
     "output_type": "stream",
     "text": [
      "Standard_ratings of the item 1: [ 1.17217053  0.81150267         nan -0.9918366  -0.9918366 ]\n"
     ]
    }
   ],
   "source": [
    "standard_scores = (raw_scores - mean_rating)/std_rating\n",
    "print(\"Standard_ratings of the item 1:\", standard_scores)"
   ]
  },
  {
   "cell_type": "markdown",
   "id": "85f7323c-7ccf-4f18-9f05-83b357aa55dc",
   "metadata": {},
   "source": [
    "##### DEFINING THE RAW RATINGS RECIEVED BY THE ITEM 2\n"
   ]
  },
  {
   "cell_type": "code",
   "execution_count": 19,
   "id": "6e3f0516-910e-4753-8081-a322953a620f",
   "metadata": {},
   "outputs": [
    {
     "name": "stdout",
     "output_type": "stream",
     "text": [
      "Mean rating of the item 2: 4.5\n",
      "Standad deviation of the item 2: 2.0615528128088303\n"
     ]
    }
   ],
   "source": [
    "raw_scores = np.array([6,7,3,2, np.nan])\n",
    "mean_rating = np.nanmean(raw_scores)\n",
    "std_rating = np.nanstd(raw_scores)\n",
    "print(\"Mean rating of the item 2:\", mean_rating)\n",
    "print(\"Standad deviation of the item 2:\", std_rating)"
   ]
  },
  {
   "cell_type": "markdown",
   "id": "78d74365-f30b-4b2a-bad7-18df6e5ef14a",
   "metadata": {},
   "source": [
    "##### PREPROCESSING THE RAW RATINGS RECIEVED BY THE ITEM 2\n"
   ]
  },
  {
   "cell_type": "code",
   "execution_count": 20,
   "id": "54053d91-5855-4626-9a07-23fcd47bc8b0",
   "metadata": {},
   "outputs": [
    {
     "name": "stdout",
     "output_type": "stream",
     "text": [
      "Standard_ratings of the item 2: [ 0.72760688  1.21267813 -0.72760688 -1.21267813         nan]\n"
     ]
    }
   ],
   "source": [
    "standard_scores = (raw_scores - mean_rating)/std_rating\n",
    "print(\"Standard_ratings of the item 2:\", standard_scores)"
   ]
  },
  {
   "cell_type": "markdown",
   "id": "ff64f805-1a2e-420b-ae1b-ceb95732a38d",
   "metadata": {},
   "source": [
    "##### DEFINING THE RAW RATINGS RECIEVED BY THE ITEM 3"
   ]
  },
  {
   "cell_type": "code",
   "execution_count": 21,
   "id": "e9ad0957-6357-4e60-a3fc-af1ff33edba4",
   "metadata": {},
   "outputs": [
    {
     "name": "stdout",
     "output_type": "stream",
     "text": [
      "Mean rating of the item 3: 3.25\n",
      "Standad deviation of the item 3: 2.277608394786075\n"
     ]
    }
   ],
   "source": [
    "raw_scores = np.array([7, np.nan, 3,2,1])\n",
    "mean_rating = np.nanmean(raw_scores)\n",
    "std_rating = np.nanstd(raw_scores)\n",
    "print(\"Mean rating of the item 3:\", mean_rating)\n",
    "print(\"Standad deviation of the item 3:\", std_rating)"
   ]
  },
  {
   "cell_type": "markdown",
   "id": "db668cab-32ac-48c3-b106-54d279042eda",
   "metadata": {},
   "source": [
    "##### PREPROCESSING THE RAW RATINGS RECIEVED BY THE ITEM 3"
   ]
  },
  {
   "cell_type": "code",
   "execution_count": 22,
   "id": "f40e0671-c64c-44e0-bd8a-fcf977167c37",
   "metadata": {},
   "outputs": [
    {
     "name": "stdout",
     "output_type": "stream",
     "text": [
      "Standard_ratings of the item 3: [ 1.6464639          nan -0.10976426 -0.5488213  -0.98787834]\n"
     ]
    }
   ],
   "source": [
    "standard_scores = (raw_scores - mean_rating)/std_rating\n",
    "print(\"Standard_ratings of the item 3:\", standard_scores)"
   ]
  },
  {
   "cell_type": "markdown",
   "id": "e5b60b8a-c9da-4419-a8bc-1966e383fc13",
   "metadata": {},
   "source": [
    "##### DEFINING THE RAW RATINGS RECIEVED BY THE ITEM 4\n"
   ]
  },
  {
   "cell_type": "code",
   "execution_count": 23,
   "id": "a0937e29-f772-49b0-a33d-c23db88b2a7d",
   "metadata": {},
   "outputs": [
    {
     "name": "stdout",
     "output_type": "stream",
     "text": [
      "Mean rating of the item 4: 2.8\n",
      "Standad deviation of the item 4: 1.16619037896906\n"
     ]
    }
   ],
   "source": [
    "raw_scores = np.array([4,4,1,3,2])\n",
    "mean_rating = np.mean(raw_scores)\n",
    "std_rating = np.std(raw_scores)\n",
    "print(\"Mean rating of the item 4:\", mean_rating)\n",
    "print(\"Standad deviation of the item 4:\", std_rating)"
   ]
  },
  {
   "cell_type": "markdown",
   "id": "510faec4-6b57-4f9a-9e09-6bf8ea5392e5",
   "metadata": {},
   "source": [
    "##### PREPROCESSING THE RAW RATINGS RECIEVED BY THE ITEM 4"
   ]
  },
  {
   "cell_type": "code",
   "execution_count": 24,
   "id": "771e0833-347e-4220-866e-8a0859e8aabd",
   "metadata": {},
   "outputs": [
    {
     "name": "stdout",
     "output_type": "stream",
     "text": [
      "Standard_ratings of the item 4: [ 1.02899151  1.02899151 -1.54348727  0.17149859 -0.68599434]\n"
     ]
    }
   ],
   "source": [
    "standard_scores = (raw_scores - mean_rating)/std_rating\n",
    "print(\"Standard_ratings of the item 4:\", standard_scores)"
   ]
  },
  {
   "cell_type": "markdown",
   "id": "d15d3d13-4c8b-444f-bc40-3321024606ae",
   "metadata": {},
   "source": [
    "##### DEFINING THE RAW RATINGS RECIEVED BY THE ITEM 5"
   ]
  },
  {
   "cell_type": "code",
   "execution_count": 25,
   "id": "dbd46031-6ffb-446e-9972-67b2d2e1ece1",
   "metadata": {},
   "outputs": [
    {
     "name": "stdout",
     "output_type": "stream",
     "text": [
      "Mean rating of the item 5: 3.0\n",
      "Standad deviation of the item 5: 1.2649110640673518\n"
     ]
    }
   ],
   "source": [
    "raw_scores = np.array([5,3,1,3,3])\n",
    "mean_rating = np.mean(raw_scores)\n",
    "std_rating = np.std(raw_scores)\n",
    "print(\"Mean rating of the item 5:\", mean_rating)\n",
    "print(\"Standad deviation of the item 5:\", std_rating)"
   ]
  },
  {
   "cell_type": "markdown",
   "id": "10100374-6b2a-42d3-a35c-63ffb6ab369b",
   "metadata": {},
   "source": [
    "##### PREPROCESSING THE RAW RATINGS RECIEVED BY THE ITEM 5"
   ]
  },
  {
   "cell_type": "code",
   "execution_count": 26,
   "id": "4c40b786-461d-466a-97a5-09249260f724",
   "metadata": {},
   "outputs": [
    {
     "name": "stdout",
     "output_type": "stream",
     "text": [
      "Standard_ratings of the item 5: [ 1.58113883  0.         -1.58113883  0.          0.        ]\n"
     ]
    }
   ],
   "source": [
    "standard_scores = (raw_scores - mean_rating)/std_rating\n",
    "print(\"Standard_ratings of the item 5:\", standard_scores)"
   ]
  },
  {
   "cell_type": "markdown",
   "id": "f140a315-b7d5-4db1-96e1-5f9be85afdd7",
   "metadata": {},
   "source": [
    "##### DEFINING THE RAW RATINGS RECIEVED BY THE ITEM 6"
   ]
  },
  {
   "cell_type": "code",
   "execution_count": 27,
   "id": "9795f453-0ceb-4343-aa8d-293590a1b790",
   "metadata": {},
   "outputs": [
    {
     "name": "stdout",
     "output_type": "stream",
     "text": [
      "Mean rating of the item 6: 3.75\n",
      "Standad deviation of the item 6: 0.4330127018922193\n"
     ]
    }
   ],
   "source": [
    "raw_scores = np.array([4,4, np.nan, 4,3])\n",
    "mean_rating = np.nanmean(raw_scores)\n",
    "std_rating = np.nanstd(raw_scores)\n",
    "print(\"Mean rating of the item 6:\", mean_rating)\n",
    "print(\"Standad deviation of the item 6:\", std_rating)"
   ]
  },
  {
   "cell_type": "markdown",
   "id": "4b3357b4-7558-421e-82a5-bf9324796133",
   "metadata": {},
   "source": [
    "##### PREPROCESSING THE RAW RATINGS RECIEVED BY THE ITEM 6"
   ]
  },
  {
   "cell_type": "code",
   "execution_count": 28,
   "id": "63ef106b-8a4f-4892-8c04-dc09b7eb1d1d",
   "metadata": {},
   "outputs": [
    {
     "name": "stdout",
     "output_type": "stream",
     "text": [
      "Standard_ratings of the item 6: [ 0.57735027  0.57735027         nan  0.57735027 -1.73205081]\n"
     ]
    }
   ],
   "source": [
    "standard_scores = (raw_scores - mean_rating)/std_rating\n",
    "print(\"Standard_ratings of the item 6:\", standard_scores)"
   ]
  },
  {
   "cell_type": "markdown",
   "id": "58f72b81-ce1c-43db-8f95-21ff7898e549",
   "metadata": {},
   "source": [
    "##### CALCULATING THE SIMILARITIES BETWEEN THE TARGET ITEM, THAT IS ITEM 6 AND ALL OTHER  REMAINING 5 ITEMS, \n",
    "##### CONSIDERING THE  PEARSON SIMILARITY APPROACH.\n"
   ]
  },
  {
   "cell_type": "code",
   "execution_count": 29,
   "id": "4e078118-67c7-45b5-9e3e-859cfe621637",
   "metadata": {},
   "outputs": [
    {
     "name": "stdout",
     "output_type": "stream",
     "text": [
      "Similarity between item 6 and item 1: 0.5726371267840717\n"
     ]
    }
   ],
   "source": [
    "#### SIMILARITY BETWEEN ITEM 6 AND ITEM 1\n",
    "i1 = np.array([1.17217053,  0.81150267, -0.9918366,  -0.9918366])\n",
    "i6 = np.array([0.57735027, 0.57735027,  0.57735027, -1.73205081])\n",
    "numerator = np.sum(i6*i1)\n",
    "denominator = (np.sqrt(sum(i6*i6))) * (np.sqrt(sum(i1*i1)))\n",
    "similarity = numerator/denominator\n",
    "print(\"Similarity between item 6 and item 1:\", similarity)"
   ]
  },
  {
   "cell_type": "code",
   "execution_count": 30,
   "id": "9020d142-c94a-41ca-9a2a-b5b3cffea03e",
   "metadata": {},
   "outputs": [
    {
     "name": "stdout",
     "output_type": "stream",
     "text": [
      "Similarity between item 6 and item 2: 0.2254938089261225\n"
     ]
    }
   ],
   "source": [
    "#### SIMILARITY BETWEEN ITEM 6 AND ITEM 2\n",
    "i2 = np.array([0.72760688,  1.21267813, -1.21267813])\n",
    "i6 = np.array([0.57735027, 0.57735027,  0.57735027])\n",
    "numerator = np.sum(i6*i2)\n",
    "denominator = (np.sqrt(sum(i6*i6))) * (np.sqrt(sum(i2*i2)))\n",
    "similarity = numerator/denominator\n",
    "print(\"Similarity between item 6 and item 2:\", similarity)"
   ]
  },
  {
   "cell_type": "code",
   "execution_count": 31,
   "id": "8d5d5c9d-a07b-4cda-9640-c74a0ccb518a",
   "metadata": {},
   "outputs": [
    {
     "name": "stdout",
     "output_type": "stream",
     "text": [
      "Similarity between item 6 and item 3: 0.6131848054239899\n"
     ]
    }
   ],
   "source": [
    "#### SIMILARITY BETWEEN ITEM 6 AND ITEM 3\n",
    "i3 = np.array([1.6464639, -0.5488213,  -0.98787834])\n",
    "i6 = np.array([0.57735027, 0.57735027, -1.73205081])\n",
    "numerator = np.sum(i6*i3)\n",
    "denominator = (np.sqrt(sum(i6*i6))) * (np.sqrt(sum(i3*i3)))\n",
    "similarity = numerator/denominator\n",
    "print(\"Similarity between item 6 and item 3:\", similarity)"
   ]
  },
  {
   "cell_type": "code",
   "execution_count": 32,
   "id": "3a3a1c13-30e3-4ef4-9de5-4e438b9f03e6",
   "metadata": {},
   "outputs": [
    {
     "name": "stdout",
     "output_type": "stream",
     "text": [
      "Similarity between item 6 and item 4: 0.7649875773441561\n"
     ]
    }
   ],
   "source": [
    "#### SIMILARITY BETWEEN ITEM 6 AND ITEM 4\n",
    "i4 = np.array([1.02899151,  1.02899151, 0.17149859, -0.68599434])\n",
    "i6 = np.array([0.57735027,  0.57735027, 0.57735027, -1.73205081])\n",
    "numerator = np.sum(i6*i4)\n",
    "denominator = (np.sqrt(sum(i6*i6))) * (np.sqrt(sum(i4*i4)))\n",
    "similarity = numerator/denominator\n",
    "print(\"Similarity between item 6 and item 4:\", similarity)"
   ]
  },
  {
   "cell_type": "code",
   "execution_count": 33,
   "id": "1a44cd7b-c18b-4325-b225-2f128300ba34",
   "metadata": {},
   "outputs": [
    {
     "name": "stdout",
     "output_type": "stream",
     "text": [
      "Similarity between item 6 and item 5: 0.28867513459481287\n"
     ]
    }
   ],
   "source": [
    "#### SIMILARITY BETWEEN ITEM 6 AND ITEM 5\n",
    "i5 = np.array([ 1.58113883,  0.0, 0.0, 0.0])\n",
    "i6 = np.array([0.57735027,  0.57735027, 0.57735027, -1.73205081])\n",
    "numerator = np.sum(i6*i5)\n",
    "denominator = (np.sqrt(sum(i6*i6))) * (np.sqrt(sum(i5*i5)))\n",
    "similarity = numerator/denominator\n",
    "print(\"Similarity between item 6 and item 5:\", similarity)"
   ]
  },
  {
   "cell_type": "markdown",
   "id": "9fa0aacf-ebc1-423e-8634-1f1dae39074f",
   "metadata": {},
   "source": [
    "###### THEREFORE, CONSIDERING THE MAXIMUM SIMILARITY VALUE, WE CAN STATE THAT ITEM 4 AND ITEM 3 ARE MOST SIMILAR\n",
    "###### ITEMS TO THE TARGET ITEM 6, HENCE WE PREDICT THE RATING, COMPUTING THE WEIGHTED AVERAGE OF THE RATINGS GIVEN \n",
    "###### FOR ITEM 4 AND ITEM 3 BY THE USER 3."
   ]
  },
  {
   "cell_type": "code",
   "execution_count": 34,
   "id": "4e4376f8-2a6f-4277-8b41-b092a46b284b",
   "metadata": {},
   "outputs": [
    {
     "name": "stdout",
     "output_type": "stream",
     "text": [
      "The perdicted rating of item 6 by user 3 is: 3.3578695242245016\n"
     ]
    }
   ],
   "source": [
    "r_3_4 = -1.54348727\n",
    "r_3_3 = -0.10976426\n",
    "numerator = (0.7649875773441561* r_3_4) + (0.6131848054239899 * r_3_3)\n",
    "denominator = 0.7649875773441561 + 0.6131848054239899 \n",
    "mean_i6 = 3.75\n",
    "std_i6 = 0.4330127018922193 \n",
    "r_3_6_hat = mean_i6 + std_i6 * (numerator/denominator)\n",
    "print(\"The perdicted rating of item 6 by user 3 is:\", r_3_6_hat)"
   ]
  },
  {
   "cell_type": "markdown",
   "id": "355ba188-ef06-40d6-b0e6-63d3c9ad9c1c",
   "metadata": {},
   "source": [
    "###### THEREFORE, WE CONCLUDE THAT WE SHALL RECOMMEND THIS ITEM 6 TO THE USER 3 DUE TO ITS RELATIVELY GOOD RATING USING\n",
    "###### ITEM-BASED COLLABORATIVE FILTERING APPROACH."
   ]
  },
  {
   "cell_type": "code",
   "execution_count": null,
   "id": "4dfb20da-a7a4-4ee9-9304-f01a5ced7f8f",
   "metadata": {},
   "outputs": [],
   "source": []
  }
 ],
 "metadata": {
  "kernelspec": {
   "display_name": "Python 3 (ipykernel)",
   "language": "python",
   "name": "python3"
  },
  "language_info": {
   "codemirror_mode": {
    "name": "ipython",
    "version": 3
   },
   "file_extension": ".py",
   "mimetype": "text/x-python",
   "name": "python",
   "nbconvert_exporter": "python",
   "pygments_lexer": "ipython3",
   "version": "3.12.7"
  }
 },
 "nbformat": 4,
 "nbformat_minor": 5
}
